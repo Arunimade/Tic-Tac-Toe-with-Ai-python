def draw_board(spots):
board = (f"|{spots[1]}|{spots[2]}|{spots[3]}|\n"
f"|{spots[4]}|{spots[5]}|{spots[6]}|\n"
f"|{spots[7]}|{spots[8]}|{spots[9]}|")
print(board)
def check_turn(turn):
return "X" ifturn % 2 == 0 else "O"
def check_for_win(spots):
# Handle Horizontal Cases
if (spots[1] == spots[2] == spots[3]) or(spots[4] == spots[5] == spots[6]) or(spots[7] == spots[8] == spots[9]):
return True
# Handle Vertical Cases
elif (spots[1] == spots[4] == spots[7]) or(spots[2] == spots[5] == spots[8]) or(spots[3] == spots[6] == spots[9]):
return True
# Diagonal Cases
elif (spots[1] == spots[5] == spots[9]) or(spots[3] == spots[5] == spots[7]):
return True
else:
return False
def evaluate(spots, ai_choice, user_choice):
if check_for_win(spots):
if ai_choice == "X" and spots[1] == spots[2] == spots[3] == ai_choice:
return 1
elif user_choice == "O" and spots[1] == spots[2] == spots[3] == user_choice:
return -1
return 0
def minimax(spots, depth, is_maximizing, ai_choice, user_choice):
if check_for_win(spots):
if is_maximizing:
return -1
else:
return 1
elif depth == 0: # Simulate up to a certain depth to make AI faster
return evaluate(spots, ai_choice, user_choice)
if is_maximizing:
best_score = -float('inf')
for key in spots.keys():
if spots[key] notin {"X", "O"}:
original = spots[key]
spots[key] = ai_choice
score = minimax(spots, depth - 1, False, ai_choice, user_choice)
spots[key] = original
best_score = max(score, best_score)
return best_score
else:
best_score = float('inf')
for key in spots.keys():
if spots[key] notin {"X", "O"}:
original = spots[key]
spots[key] = user_choice
score = minimax(spots, depth - 1, True, ai_choice, user_choice)
spots[key] = original
best_score = min(score, best_score)
return best_score
def ai_move(spots, ai_choice, user_choice):
best_score = -float('inf')
best_move = None
for key in spots.keys():
if spots[key] notin {"X", "O"}:
original = spots[key]
spots[key] = ai_choice
score = minimax(spots, 4, False, ai_choice, user_choice) # Increased depth for better strategy
spots[key] = original
if score > best_score:
best_score = score
best_move = key
return best_move
import os
# Declare allthe variables we're going to need
spots = {1: '1', 2: '2', 3: '3', 4: '4', 5: '5', 6: '6', 7: '7', 8: '8', 9: '9'}
playing, complete = True, False
turn = 0
prev_turn = -1
# Ask the userto choose whether AI will be X or O
ai_choice = ""
while ai_choice notin ["X", "O"]:
ai_choice = input("Do you wantthe AIto play as X or O? ").upper()
user_choice = "O" if ai_choice == "X" else "X"
# Game Loop
while playing:
# Resetthe screen
os.system('cls' if os.name == 'nt' else 'clear')
# Draw the current Game Board
draw_board(spots)
# If an invalid turn occurred, letthe player know
if prev_turn == turn:
print("Invalid spot selected, please pick another.")
prev_turn = turn
# Determine whose turn itis
current_player = check_turn(turn)
# AI's Turn
if current_player == ai_choice:
print(f"AI ({ai_choice}) is making its move...")
choice = ai_move(spots, ai_choice, user_choice)
else:
print(f"Player({user_choice})'s turn: Pick your spot or press q to quit")
choice = input()
# Handle user quitting
if choice == 'q':
playing = False
elif str(choice).isdigit() and int(choice) in spots:
# Check ifthe spotis already taken.
if spots[int(choice)] notin {"X", "O"}:
# If not, update board and incrementthe turn
turn += 1
spots[int(choice)] = current_player
# Check ifthe game has ended (and if someone won)
if check_for_win(spots):
playing, complete = False, True
ifturn > 8:
playing = False
# Update the board one lasttime.
os.system('cls' if os.name == 'nt' else 'clear')
draw_board(spots)
# Ifthere was a winner, say who won
if complete:
winner = check_turn(turn - 1)
if winner == ai_choice:
print(f"AI ({ai_choice}) Wins!")
else:
print(f"Player({user_choice}) Wins!")
else:
# Tie Game
print("No Winner")
print("Thanks for playing!")
